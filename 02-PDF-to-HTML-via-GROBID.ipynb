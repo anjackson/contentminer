{
 "cells": [
  {
   "cell_type": "markdown",
   "metadata": {},
   "source": [
    "PDF-to-HTML via GROBID\n",
    "=====================\n",
    "\n"
   ]
  },
  {
   "cell_type": "code",
   "execution_count": 1,
   "metadata": {},
   "outputs": [
    {
     "name": "stdout",
     "output_type": "stream",
     "text": [
      "\n",
      "Generic values (AMIGrobidTool)\n",
      "================================\n",
      "-v to see generic values\n",
      "oldstyle            true\n",
      "\n",
      "Specific values (AMIGrobidTool)\n",
      "================================\n",
      "exeOption            processFullText\n",
      "\n",
      "AMIGrobidTool cTree: uk.bl.ethos.755301\n",
      "\n",
      "grobid CTree: uk.bl.ethos.755301\n",
      "Error: Unable to access jarfile /home/anj/workspace/grobid/grobid-0.5.3/grobid-core/build/libs/grobid-core-0.5.3-onejar.jar\n"
     ]
    }
   ],
   "source": [
    "ami-grobid -p ethos"
   ]
  },
  {
   "cell_type": "code",
   "execution_count": null,
   "metadata": {},
   "outputs": [],
   "source": []
  },
  {
   "cell_type": "code",
   "execution_count": null,
   "metadata": {},
   "outputs": [],
   "source": []
  }
 ],
 "metadata": {
  "kernelspec": {
   "display_name": "Bash",
   "language": "bash",
   "name": "bash"
  },
  "language_info": {
   "codemirror_mode": "shell",
   "file_extension": ".sh",
   "mimetype": "text/x-sh",
   "name": "bash"
  }
 },
 "nbformat": 4,
 "nbformat_minor": 4
}
