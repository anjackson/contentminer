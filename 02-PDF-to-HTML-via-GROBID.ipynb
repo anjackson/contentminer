{
 "cells": [
  {
   "cell_type": "markdown",
   "metadata": {},
   "source": [
    "PDF-to-HTML via GROBID\n",
    "=====================\n",
    "\n"
   ]
  },
  {
   "cell_type": "code",
   "execution_count": 2,
   "metadata": {},
   "outputs": [
    {
     "name": "stdout",
     "output_type": "stream",
     "text": [
      "Fixing up GROBID installation...\n",
      "GROBID installed.\n"
     ]
    }
   ],
   "source": [
    "echo Fixing up GROBID installation...\n",
    "mkdir -p workspace/grobid\n",
    "ln -s /opt/grobid-0.5.3 workspace/grobid/\n",
    "echo GROBID installed."
   ]
  },
  {
   "cell_type": "code",
   "execution_count": 3,
   "metadata": {},
   "outputs": [
    {
     "name": "stdout",
     "output_type": "stream",
     "text": [
      "\n",
      "Generic values (AMIGrobidTool)\n",
      "================================\n",
      "-v to see generic values\n",
      "oldstyle            true\n",
      "\n",
      "Specific values (AMIGrobidTool)\n",
      "================================\n",
      "exeOption            processFullText\n",
      "\n",
      "AMIGrobidTool cTree: uk.bl.ethos.755301\n",
      "\n",
      "grobid CTree: uk.bl.ethos.755301\n",
      "Mar 29, 2020 7:59:53 PM org.grobid.core.main.GrobidHomeFinder getGrobidHomePathOrLoadFromClasspath\n",
      "WARNING: No Grobid property was provided. Attempting to find Grobid home in the current directory...\n",
      "Mar 29, 2020 7:59:53 PM org.grobid.core.main.GrobidHomeFinder findGrobidHomeOrFail\n",
      "WARNING: ***************************************************************\n",
      "Mar 29, 2020 7:59:53 PM org.grobid.core.main.GrobidHomeFinder findGrobidHomeOrFail\n",
      "WARNING: *** USING GROBID HOME: /home/anj/workspace/grobid/grobid-0.5.3/grobid-home\n",
      "Mar 29, 2020 7:59:53 PM org.grobid.core.main.GrobidHomeFinder findGrobidHomeOrFail\n",
      "WARNING: ***************************************************************\n",
      "Mar 29, 2020 7:59:53 PM org.grobid.core.main.GrobidHomeFinder getGrobidHomePathOrLoadFromClasspath\n",
      "WARNING: No Grobid property was provided. Attempting to find Grobid home in the current directory...\n",
      "Mar 29, 2020 7:59:53 PM org.grobid.core.main.GrobidHomeFinder findGrobidHomeOrFail\n",
      "WARNING: ***************************************************************\n",
      "Mar 29, 2020 7:59:53 PM org.grobid.core.main.GrobidHomeFinder findGrobidHomeOrFail\n",
      "WARNING: *** USING GROBID HOME: /home/anj/workspace/grobid/grobid-0.5.3/grobid-home\n",
      "Mar 29, 2020 7:59:53 PM org.grobid.core.main.GrobidHomeFinder findGrobidHomeOrFail\n",
      "WARNING: ***************************************************************\n",
      "Mar 29, 2020 7:59:53 PM org.grobid.core.main.GrobidHomeFinder findGrobidPropertiesOrFail\n",
      "WARNING: Grobid property file location was not explicitly set via 'org.grobid.property' system variable, defaulting to: /home/anj/workspace/grobid/grobid-0.5.3/grobid-home/config/grobid.properties\n",
      "Mar 29, 2020 7:59:53 PM org.grobid.core.main.LibraryLoader load\n",
      "INFO: Loading external native CRF library\n",
      "Mar 29, 2020 7:59:53 PM org.grobid.core.main.LibraryLoader load\n",
      "INFO: Loading Wapiti native library...\n",
      "Mar 29, 2020 7:59:53 PM org.grobid.core.main.LibraryLoader load\n",
      "INFO: Library crfpp loaded\n",
      "Mar 29, 2020 7:59:53 PM org.grobid.core.jni.WapitiModel init\n",
      "INFO: Loading model: /home/anj/workspace/grobid/grobid-0.5.3/grobid-home/models/fulltext/model.wapiti (size: 20462507)\n",
      "[Wapiti] Loading model: \"/home/anj/workspace/grobid/grobid-0.5.3/grobid-home/models/fulltext/model.wapiti\"\n",
      ">1500 ms Model path: /home/anj/workspace/grobid/grobid-0.5.3/grobid-home/models/fulltext/model.wapiti\n",
      ">3000 ms >4500 ms >6000 ms Mar 29, 2020 8:00:00 PM org.grobid.core.jni.WapitiModel init\n",
      "INFO: Loading model: /home/anj/workspace/grobid/grobid-0.5.3/grobid-home/models/segmentation/model.wapiti (size: 15807193)\n",
      "[Wapiti] Loading model: \"/home/anj/workspace/grobid/grobid-0.5.3/grobid-home/models/segmentation/model.wapiti\"\n",
      ">7500 ms >9000 ms Model path: /home/anj/workspace/grobid/grobid-0.5.3/grobid-home/models/segmentation/model.wapiti\n",
      "Mar 29, 2020 8:00:02 PM org.grobid.core.lexicon.Lexicon initDictionary\n",
      "INFO: Initiating dictionary\n",
      "Mar 29, 2020 8:00:02 PM org.grobid.core.lexicon.Lexicon initDictionary\n",
      "INFO: End of Initialization of dictionary\n",
      "Mar 29, 2020 8:00:02 PM org.grobid.core.lexicon.Lexicon initNames\n",
      "INFO: Initiating names\n",
      "Mar 29, 2020 8:00:02 PM org.grobid.core.lexicon.Lexicon initNames\n",
      "INFO: End of initialization of names\n",
      "Mar 29, 2020 8:00:03 PM org.grobid.core.lexicon.Lexicon initCountryCodes\n",
      "INFO: Initiating country codes\n",
      "Mar 29, 2020 8:00:03 PM org.grobid.core.lexicon.Lexicon initCountryCodes\n",
      "INFO: End of initialization of country codes\n",
      ">10500 ms >12000 ms >13500 ms >15000 ms >16500 ms >18000 ms >19500 ms >21000 ms >22500 ms >24000 ms Mar 29, 2020 8:00:18 PM org.grobid.core.jni.WapitiModel init\n",
      "INFO: Loading model: /home/anj/workspace/grobid/grobid-0.5.3/grobid-home/models/figure/model.wapiti (size: 679648)\n",
      "[Wapiti] Loading model: \"/home/anj/workspace/grobid/grobid-0.5.3/grobid-home/models/figure/model.wapiti\"\n",
      "Model path: /home/anj/workspace/grobid/grobid-0.5.3/grobid-home/models/figure/model.wapiti\n",
      ">25500 ms Mar 29, 2020 8:00:19 PM org.grobid.core.document.Document assignGraphicObjectsToFigures\n",
      "INFO: Standalone figure on page: 35\n",
      "Mar 29, 2020 8:00:19 PM org.grobid.core.document.Document assignGraphicObjectsToFigures\n",
      "INFO: Standalone figure on page: 36\n",
      "Mar 29, 2020 8:00:19 PM org.grobid.core.document.Document assignGraphicObjectsToFigures\n",
      "INFO: Standalone figure on page: 48\n",
      "Mar 29, 2020 8:00:19 PM org.grobid.core.document.Document assignGraphicObjectsToFigures\n",
      "INFO: Standalone figure on page: 56\n",
      "Mar 29, 2020 8:00:19 PM org.grobid.core.document.Document assignGraphicObjectsToFigures\n",
      "INFO: Standalone figure on page: 66\n",
      "Mar 29, 2020 8:00:19 PM org.grobid.core.document.Document assignGraphicObjectsToFigures\n",
      "INFO: Standalone figure on page: 70\n",
      "Mar 29, 2020 8:00:19 PM org.grobid.core.document.Document assignGraphicObjectsToFigures\n",
      "INFO: Standalone figure on page: 78\n",
      "Mar 29, 2020 8:00:19 PM org.grobid.core.jni.WapitiModel init\n",
      "INFO: Loading model: /home/anj/workspace/grobid/grobid-0.5.3/grobid-home/models/table/model.wapiti (size: 1337339)\n",
      "[Wapiti] Loading model: \"/home/anj/workspace/grobid/grobid-0.5.3/grobid-home/models/table/model.wapiti\"\n",
      "Model path: /home/anj/workspace/grobid/grobid-0.5.3/grobid-home/models/table/model.wapiti\n",
      ">27000 ms >28500 ms Mar 29, 2020 8:00:22 PM org.grobid.core.jni.WapitiModel init\n",
      "INFO: Loading model: /home/anj/workspace/grobid/grobid-0.5.3/grobid-home/models/header/model.wapiti (size: 36094028)\n",
      "[Wapiti] Loading model: \"/home/anj/workspace/grobid/grobid-0.5.3/grobid-home/models/header/model.wapiti\"\n",
      ">30000 ms >31500 ms >33000 ms >34500 ms Model path: /home/anj/workspace/grobid/grobid-0.5.3/grobid-home/models/header/model.wapiti\n",
      ">36000 ms >37500 ms >39000 ms >40500 ms Mar 29, 2020 8:00:33 PM org.grobid.core.jni.WapitiModel init\n",
      "INFO: Loading model: /home/anj/workspace/grobid/grobid-0.5.3/grobid-home/models/name/header/model.wapiti (size: 2225578)\n",
      "[Wapiti] Loading model: \"/home/anj/workspace/grobid/grobid-0.5.3/grobid-home/models/name/header/model.wapiti\"\n",
      "Model path: /home/anj/workspace/grobid/grobid-0.5.3/grobid-home/models/name/header/model.wapiti\n",
      "Mar 29, 2020 8:00:34 PM org.grobid.core.jni.WapitiModel init\n",
      "INFO: Loading model: /home/anj/workspace/grobid/grobid-0.5.3/grobid-home/models/name/citation/model.wapiti (size: 393118)\n",
      "[Wapiti] Loading model: \"/home/anj/workspace/grobid/grobid-0.5.3/grobid-home/models/name/citation/model.wapiti\"\n",
      "Model path: /home/anj/workspace/grobid/grobid-0.5.3/grobid-home/models/name/citation/model.wapiti\n",
      "Mar 29, 2020 8:00:34 PM org.grobid.core.jni.WapitiModel init\n",
      "INFO: Loading model: /home/anj/workspace/grobid/grobid-0.5.3/grobid-home/models/affiliation-address/model.wapiti (size: 2700194)\n",
      "[Wapiti] Loading model: \"/home/anj/workspace/grobid/grobid-0.5.3/grobid-home/models/affiliation-address/model.wapiti\"\n",
      "Model path: /home/anj/workspace/grobid/grobid-0.5.3/grobid-home/models/affiliation-address/model.wapiti\n",
      ">42000 ms >43500 ms Mar 29, 2020 8:00:38 PM org.grobid.core.jni.WapitiModel init\n",
      "INFO: Loading model: /home/anj/workspace/grobid/grobid-0.5.3/grobid-home/models/date/model.wapiti (size: 102435)\n",
      "[Wapiti] Loading model: \"/home/anj/workspace/grobid/grobid-0.5.3/grobid-home/models/date/model.wapiti\"\n",
      "Model path: /home/anj/workspace/grobid/grobid-0.5.3/grobid-home/models/date/model.wapiti\n",
      "Mar 29, 2020 8:00:38 PM org.grobid.core.jni.WapitiModel init\n",
      "INFO: Loading model: /home/anj/workspace/grobid/grobid-0.5.3/grobid-home/models/citation/model.wapiti (size: 16235248)\n",
      "[Wapiti] Loading model: \"/home/anj/workspace/grobid/grobid-0.5.3/grobid-home/models/citation/model.wapiti\"\n",
      ">45000 ms >46500 ms Model path: /home/anj/workspace/grobid/grobid-0.5.3/grobid-home/models/citation/model.wapiti\n",
      "Mar 29, 2020 8:00:40 PM org.grobid.core.jni.WapitiModel init\n",
      "INFO: Loading model: /home/anj/workspace/grobid/grobid-0.5.3/grobid-home/models/reference-segmenter/model.wapiti (size: 4829569)\n",
      "[Wapiti] Loading model: \"/home/anj/workspace/grobid/grobid-0.5.3/grobid-home/models/reference-segmenter/model.wapiti\"\n",
      "Model path: /home/anj/workspace/grobid/grobid-0.5.3/grobid-home/models/reference-segmenter/model.wapiti\n"
     ]
    },
    {
     "name": "stdout",
     "output_type": "stream",
     "text": [
      ">48000 ms >49500 ms >51000 ms >52500 ms >54000 ms >55500 ms >57000 ms >58500 ms >60000 ms >61500 ms >63000 ms >64500 ms >66000 ms >67500 ms >69000 ms >70500 ms >72000 ms >73500 ms >75000 ms >76500 ms >78000 ms >79500 ms >81000 ms >82500 ms >84000 ms >85500 ms >87000 ms >88500 ms >90000 ms Mar 29, 2020 8:01:24 PM org.grobid.core.utilities.matching.ReferenceMarkerMatcher matchAuthorCitation\n",
      "INFO: +++++\n",
      "Mar 29, 2020 8:01:24 PM org.grobid.core.utilities.matching.ReferenceMarkerMatcher matchAuthorCitation\n",
      "INFO:   Pubic Health England. Surveillance of influenza and other respiratory viruses \n",
      "in the united kingdom: Winter 2013/ 2014. . 2014;PHE gateway number 2014110.\n",
      "Mar 29, 2020 8:01:24 PM org.grobid.core.utilities.matching.ReferenceMarkerMatcher matchAuthorCitation\n",
      "INFO: +++++\n",
      "Mar 29, 2020 8:01:24 PM org.grobid.core.utilities.matching.ReferenceMarkerMatcher matchAuthorCitation\n",
      "INFO:   Public Health England. Surveillance of influenza and other respiratory viruses \n",
      "in the united kingdom: Winter 2014 to 2015. . 2015;PHE gateway number \n",
      "2015046.\n",
      "Mar 29, 2020 8:01:24 PM org.grobid.core.utilities.matching.ReferenceMarkerMatcher matchAuthorCitation\n",
      "INFO: +++++\n",
      "Mar 29, 2020 8:01:24 PM org.grobid.core.utilities.matching.ReferenceMarkerMatcher matchAuthorCitation\n",
      "INFO:   Gwaltney JM,Jr, Moskalski PB, Hendley JO. Hand-to-hand transmission of \n",
      "rhinovirus colds. Ann Intern Med. 1978;88(4):463-467.\n",
      "Mar 29, 2020 8:01:24 PM org.grobid.core.utilities.matching.ReferenceMarkerMatcher matchAuthorCitation\n",
      "INFO: +++++\n",
      "Mar 29, 2020 8:01:24 PM org.grobid.core.utilities.matching.ReferenceMarkerMatcher matchAuthorCitation\n",
      "INFO:   Gwaltney JM,Jr, Hendley JO. Rhinovirus transmission: One if by air, two if by \n",
      "hand. Am J Epidemiol. 1978;107(5):357-361.\n",
      "Mar 29, 2020 8:01:24 PM org.grobid.core.utilities.matching.ReferenceMarkerMatcher matchAuthorCitation\n",
      "INFO: +++++\n",
      "Mar 29, 2020 8:01:24 PM org.grobid.core.utilities.matching.ReferenceMarkerMatcher matchAuthorCitation\n",
      "INFO:   Gwaltney JM,Jr, Moskalski PB, Hendley JO. Hand-to-hand transmission of \n",
      "rhinovirus colds. Ann Intern Med. 1978;88(4):463-467.\n",
      "Mar 29, 2020 8:01:24 PM org.grobid.core.utilities.matching.ReferenceMarkerMatcher matchAuthorCitation\n",
      "INFO: +++++\n",
      "Mar 29, 2020 8:01:24 PM org.grobid.core.utilities.matching.ReferenceMarkerMatcher matchAuthorCitation\n",
      "INFO:   Gwaltney JM,Jr, Hendley JO. Rhinovirus transmission: One if by air, two if by \n",
      "hand. Am J Epidemiol. 1978;107(5):357-361.\n",
      "Mar 29, 2020 8:01:24 PM org.grobid.core.utilities.matching.ReferenceMarkerMatcher matchAuthorCitation\n",
      "INFO: +++++\n",
      "Mar 29, 2020 8:01:24 PM org.grobid.core.utilities.matching.ReferenceMarkerMatcher matchAuthorCitation\n",
      "INFO:   Gwaltney JM,Jr, Moskalski PB, Hendley JO. Hand-to-hand transmission of \n",
      "rhinovirus colds. Ann Intern Med. 1978;88(4):463-467.\n",
      "Mar 29, 2020 8:01:24 PM org.grobid.core.utilities.matching.ReferenceMarkerMatcher matchAuthorCitation\n",
      "INFO: +++++\n",
      "Mar 29, 2020 8:01:24 PM org.grobid.core.utilities.matching.ReferenceMarkerMatcher matchAuthorCitation\n",
      "INFO:   Gwaltney JM,Jr, Hendley JO. Rhinovirus transmission: One if by air, two if by \n",
      "hand. Am J Epidemiol. 1978;107(5):357-361.\n",
      "Mar 29, 2020 8:01:24 PM org.grobid.core.utilities.matching.ReferenceMarkerMatcher matchAuthorCitation\n",
      "INFO: +++++\n",
      "Mar 29, 2020 8:01:24 PM org.grobid.core.utilities.matching.ReferenceMarkerMatcher matchAuthorCitation\n",
      "INFO:   Gwaltney JM,Jr, Moskalski PB, Hendley JO. Hand-to-hand transmission of \n",
      "rhinovirus colds. Ann Intern Med. 1978;88(4):463-467.\n",
      "Mar 29, 2020 8:01:24 PM org.grobid.core.utilities.matching.ReferenceMarkerMatcher matchAuthorCitation\n",
      "INFO: +++++\n",
      "Mar 29, 2020 8:01:24 PM org.grobid.core.utilities.matching.ReferenceMarkerMatcher matchAuthorCitation\n",
      "INFO:   Gwaltney JM,Jr, Hendley JO. Rhinovirus transmission: One if by air, two if by \n",
      "hand. Am J Epidemiol. 1978;107(5):357-361.\n",
      ">91500 ms >93000 ms 0    [main] DEBUG org.contentmine.graphics.html.HtmlElement  - unnecessary class attribute\n",
      "0 [main] DEBUG org.contentmine.graphics.html.HtmlElement  - unnecessary class attribute\n",
      "unknown tag in persName: genName\n",
      "unknown tag in persName: genName\n",
      "unknown tag in persName: genName\n",
      "unknown tag in persName: genName\n",
      "unknown tag in persName: genName\n",
      "unknown tag in persName: genName\n",
      "unknown tag in persName: genName\n",
      "unknown tag in persName: genName\n",
      "unknown tag in persName: genName\n",
      "unknown tag in persName: genName\n",
      "unknown tag in persName: genName\n",
      "unknown tag in persName: genName\n",
      "unknown tag in persName: genName\n",
      "unknown tag in persName: genName\n",
      "unknown tag in persName: genName\n",
      "unknown tag in persName: genName\n",
      "unknown tag in persName: genName\n",
      "unknown tag in persName: genName\n",
      "unknown tag in persName: genName\n",
      "unknown tag in persName: genName\n",
      "unknown tag in persName: genName\n"
     ]
    }
   ],
   "source": [
    "ami-grobid -p ethos"
   ]
  },
  {
   "cell_type": "code",
   "execution_count": 4,
   "metadata": {},
   "outputs": [
    {
     "name": "stdout",
     "output_type": "stream",
     "text": [
      "total 2420\n",
      "-rw-r--r--. 1 anj anj 1166951 Mar 29 20:01 fulltext.tei.html\n",
      "-rw-r--r--. 1 anj anj 1303530 Mar 29 20:01 fulltext.tei.xml\n",
      "drwxr-xr-x. 2 anj anj    4096 Mar 29 20:00 fulltext_assets\n"
     ]
    }
   ],
   "source": [
    "ls -l ethos/uk.bl.ethos.755301/tei"
   ]
  },
  {
   "cell_type": "code",
   "execution_count": 6,
   "metadata": {},
   "outputs": [
    {
     "name": "stdout",
     "output_type": "stream",
     "text": [
      "bash: fg: %%python: no such job\n"
     ]
    },
    {
     "ename": "",
     "evalue": "1",
     "output_type": "error",
     "traceback": []
    }
   ],
   "source": [
    "cat "
   ]
  },
  {
   "cell_type": "code",
   "execution_count": null,
   "metadata": {},
   "outputs": [],
   "source": []
  }
 ],
 "metadata": {
  "kernelspec": {
   "display_name": "Bash",
   "language": "bash",
   "name": "bash"
  },
  "language_info": {
   "codemirror_mode": "shell",
   "file_extension": ".sh",
   "mimetype": "text/x-sh",
   "name": "bash"
  }
 },
 "nbformat": 4,
 "nbformat_minor": 4
}
