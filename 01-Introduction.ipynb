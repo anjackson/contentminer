{
 "cells": [
  {
   "cell_type": "markdown",
   "metadata": {},
   "source": [
    "Introduction to the ContentMine toolkit\n",
    "================================\n",
    "\n",
    "The Big Picture\n",
    "\n",
    "\n",
    "\n",
    "I'm trying find theses and articles that refer to Coronavirus etc by running ami-search over them with the openVirus dictionaries. I have fulltext.pdf files, but I believe I need scholarly.html files to run ami-search (it says it can't find any text).\n",
    "\n",
    "Thanks - these are wonderful questions. No need to apologize.\n",
    "AMI has been built in an ad hoc fashion from a variety of projects and\n",
    "often not finished. So I tested that GROBID worked but at that stage no one\n",
    "was interested in using it. I'll hack ami-Grobid to output scholarly.html.\n",
    "Hoping that everything will move to using something similar to JATS (which\n",
    "has a subset of HTML)\n",
    "\n",
    "\n",
    " Thanks, that's very helpful! I get meaningful results after doing a cp\n",
    " tei/fulltext.tei.html scholarly.html.\n",
    "\n",
    " I'm happy trying things out and handling conversions.\n",
    "Great. A lot of this is in the system but not well documented one place to\n",
    "start is my slides\n",
    "https://www.slideshare.net/petermurrayrust/text-and-data-mining-explained-at-ftdm\n",
    "and a lot of other similar ones\n",
    " The bit I'm struggling with is the overall workflow stages and any\n",
    " constraints on how the data is suppose to be. Example questions:\n",
    "\n",
    "    - The OCR/Grobid workflows appear to target the generation of\n",
    "    scholarly.html but the current AMI3 project requires me to pick one\n",
    "    workflow and copy the result into place as scholarly.html, right?\n",
    "\n",
    "I will try to hack grobid tonight.\n",
    "\n",
    "    - Am I right to think that ami-search works happily with plain text\n",
    "    fulltext.pdf.txt or HTML scholarly.html, but nothing else?\n",
    "\n",
    " I think so\n",
    "\n",
    "    - Will any reasonable plain text or HTML representation suffice? (e.g\n",
    "    at first I thought scholarly.html was referring to this proposal\n",
    "    <https://w3c.github.io/scholarly-html/> but I think not?)\n",
    "\n",
    " Any Html will work as long as its well-formed - I think. Scholarly HTML\n",
    "hasn't really taken off and I think the HTML subset in JATS will work.\n",
    "\n",
    "    - It seems ami-search generates plain XML - how does this relate to\n",
    "    generating WikiData content?\n",
    "\n",
    " AMI search uses Wikidata. It doesn't currently generate Wikidata.\n",
    "\n",
    "    - I think ami-search takes keywords relating to specific concepts\n",
    "    (dictionaries) and records where they appear in a set of texts, right?\n",
    "\n",
    " Yes, absolutely.\n",
    "\n",
    "\n",
    "\n",
    "ami-makeproject -p ethos --rawfiletypes pdf\n",
    "\n",
    "```\n",
    "ethos/make_project.json\n",
    "ethos/uk.bl.ethos.755301/\n",
    "ethos/uk.bl.ethos.755301/fulltext.pdf\n",
    "```\n",
    "\n",
    "```\n",
    "ethos/uk.bl.ethos.755301/fulltext.pdf.txt\n",
    "```\n",
    "\n",
    "```\n",
    "ethos/uk.bl.ethos.755301/scholarly.html\n",
    "```\n",
    "\n",
    "Generating a HTML version"
   ]
  },
  {
   "cell_type": "code",
   "execution_count": 6,
   "metadata": {},
   "outputs": [
    {
     "name": "stdout",
     "output_type": "stream",
     "text": [
      "Mar 29, 2020 6:20:03 PM org.apache.tika.config.InitializableProblemHandler$3 handleInitializableProblem\n",
      "WARNING: J2KImageReader not loaded. JPEG2000 files will not be processed.\n",
      "See https://pdfbox.apache.org/2.0/dependencies.html#jai-image-io\n",
      "for optional dependencies.\n",
      "\n",
      "Mar 29, 2020 6:20:03 PM org.apache.tika.config.InitializableProblemHandler$3 handleInitializableProblem\n",
      "WARNING: Tesseract OCR is installed and will be automatically applied to image files unless\n",
      "you've excluded the TesseractOCRParser from the default parser.\n",
      "Tesseract may dramatically slow down content extraction (TIKA-2359).\n",
      "As of Tika 1.15 (and prior versions), Tesseract is automatically called.\n",
      "In future versions of Tika, users may need to turn the TesseractOCRParser on via TikaConfig.\n",
      "Mar 29, 2020 6:20:03 PM org.apache.tika.config.InitializableProblemHandler$3 handleInitializableProblem\n",
      "WARNING: org.xerial's sqlite-jdbc is not loaded.\n",
      "Please provide the jar on your classpath to parse sqlite files.\n",
      "See tika-parsers/pom.xml for the correct version.\n",
      "WARN  Using fallback font 'LiberationSans' for 'Arial-BoldMT'\n",
      "WARN  Using fallback font 'LiberationSans' for 'Arial-BoldItalicMT'\n",
      "WARN  Using fallback font 'LiberationSans' for 'TimesNewRomanPS-BoldMT'\n",
      "WARN  Using fallback font 'LiberationSans' for 'TimesNewRomanPSMT'\n",
      "WARN  No Unicode mapping for .notdef (9) in font BCDNEE+Cambria\n",
      "WARN  Using fallback font 'LiberationSans' for 'ArialMT'\n"
     ]
    }
   ],
   "source": [
    "java -jar /opt/tika.jar ethos/uk.bl.ethos.755301/fulltext.pdf > ethos/uk.bl.ethos.755301/scholarly.html"
   ]
  },
  {
   "cell_type": "code",
   "execution_count": 18,
   "metadata": {},
   "outputs": [
    {
     "name": "stdout",
     "output_type": "stream",
     "text": [
      "\n",
      "Generic values (AMISearchTool)\n",
      "================================\n",
      "-v to see generic values\n",
      "oldstyle            true\n",
      "\n",
      "Specific values (AMISearchTool)\n",
      "================================\n",
      "oldstyle             true\n",
      "strip numbers        false\n",
      "wordCountRange       (20,1000000)\n",
      "wordLengthRange      (1,20)\n",
      "\n",
      "dictionaryList       [virus_topics, viral_systemic_diseases]\n",
      "dictionaryTop        null\n",
      "dictionarySuffix     [xml]\n",
      "\n",
      "0    [main] DEBUG org.contentmine.ami.tools.AbstractAMISearchTool  - old style search command); change\n",
      "0 [main] DEBUG org.contentmine.ami.tools.AbstractAMISearchTool  - old style search command); change\n",
      "cProject: ethos\n",
      "legacy cmd> word(frequencies)xpath:@count>20~w.stopwords:pmcstop.txt_stopwords.txt\n",
      "legacy cmd> search(virus_topics)\n",
      "legacy cmd> search(viral_systemic_diseases)\n",
      "\n",
      "large document (7031) for uk.bl.ethos.755301 truncated to 500 sections\n",
      "...\n",
      "large document (7031) for uk.bl.ethos.755301 truncated to 500 sections\n",
      "...\n",
      "large document (7031) for uk.bl.ethos.755301 truncated to 500 sections\n",
      "...\n",
      "create data tables\n",
      "rrrr"
     ]
    },
    {
     "name": "stderr",
     "output_type": "stream",
     "text": [
      "uk.bl.ethos.755301 "
     ]
    }
   ],
   "source": [
    "%%bash\n",
    "ami-search -p ethos --forcemake --dictionary=virus_topics --dictionary=viral_systemic_diseases"
   ]
  },
  {
   "cell_type": "code",
   "execution_count": 4,
   "metadata": {},
   "outputs": [
    {
     "name": "stdout",
     "output_type": "stream",
     "text": [
      "ethos/uk.bl.ethos.755301/word.frequencies.count.xml\n",
      "ethos/uk.bl.ethos.755301/scholarly.pdf\n",
      "ethos/uk.bl.ethos.755301/search.country.count.xml\n",
      "ethos/uk.bl.ethos.755301/scholarly.html\n",
      "ethos/uk.bl.ethos.755301/results/word/frequencies/results.html\n",
      "ethos/uk.bl.ethos.755301/results/word/frequencies/results.xml\n",
      "ethos/uk.bl.ethos.755301/results/search/country/results.xml\n",
      "ethos/uk.bl.ethos.755301/word.frequencies.snippets.xml\n",
      "ethos/uk.bl.ethos.755301/fulltext.pdf\n",
      "ethos/uk.bl.ethos.755301/search.country.snippets.xml\n",
      "ethos/word.frequencies.count.xml\n",
      "ethos/word.frequencies.documents.xml\n",
      "ethos/search.country.documents.xml\n",
      "ethos/full.dataTables.html\n",
      "ethos/search.country.count.xml\n",
      "ethos/word.frequencies.snippets.xml\n",
      "ethos/search.country.snippets.xml\n",
      "ethos/__cooccurrence/country/histogram.svg\n",
      "ethos/__cooccurrence/country/histogram.csv\n",
      "ethos/__cooccurrence/country-country/cooccur.svg\n",
      "ethos/__cooccurrence/country-country/cooccur.csv\n",
      "ethos/__cooccurrence/allPlots.svg\n",
      "ethos/commonest.dataTables.html\n",
      "ethos/count.dataTables.html\n",
      "ethos/entries.dataTables.html\n",
      "ethos/make_project.json\n"
     ]
    }
   ],
   "source": [
    "find ethos -type f"
   ]
  },
  {
   "cell_type": "code",
   "execution_count": 19,
   "metadata": {},
   "outputs": [
    {
     "name": "stdout",
     "output_type": "stream",
     "text": [
      "ethos/search.viral_systemic_diseases.count.xml\n",
      "ethos/uk.bl.ethos.755301/search.viral_systemic_diseases.count.xml\n",
      "ethos/uk.bl.ethos.755301/word.frequencies.count.xml\n",
      "ethos/uk.bl.ethos.755301/search.country.count.xml\n",
      "ethos/uk.bl.ethos.755301/results/search/country\n",
      "ethos/uk.bl.ethos.755301/results/search/country/results.xml\n",
      "ethos/uk.bl.ethos.755301/search.country.snippets.xml\n",
      "ethos/uk.bl.ethos.755301/search.virus_topics.count.xml\n",
      "ethos/word.frequencies.count.xml\n",
      "ethos/search.country.documents.xml\n",
      "ethos/search.country.count.xml\n",
      "ethos/search.country.snippets.xml\n",
      "ethos/__cooccurrence/country,virus_topics\n",
      "ethos/__cooccurrence/country,virus_topics/histogram.svg\n",
      "ethos/__cooccurrence/country,virus_topics/histogram.csv\n",
      "ethos/__cooccurrence/country\n",
      "ethos/__cooccurrence/country/histogram.svg\n",
      "ethos/__cooccurrence/country/histogram.csv\n",
      "ethos/__cooccurrence/country-country\n",
      "ethos/__cooccurrence/country-country/cooccur.svg\n",
      "ethos/__cooccurrence/country-country/cooccur.csv\n",
      "ethos/__cooccurrence/country,virus_topics-country,virus_topics\n",
      "ethos/__cooccurrence/country,virus_topics-country,virus_topics/cooccur.csv\n",
      "ethos/count.dataTables.html\n",
      "ethos/search.virus_topics.count.xml\n"
     ]
    }
   ],
   "source": [
    "%%bash\n",
    "find ethos | grep count"
   ]
  },
  {
   "cell_type": "code",
   "execution_count": 22,
   "metadata": {},
   "outputs": [
    {
     "name": "stdout",
     "output_type": "stream",
     "text": [
      "<?xml version=\"1.0\" encoding=\"UTF-8\"?>\r\n",
      "<results title=\"virus_topics\">\r\n",
      " <result pre=\"particles present in nasopharyngeal exudates.9,72 Children and adults with a\" exact=\"viral load\" post=\"of at least 107 copies/mL are usually hospitalised with\"/>\r\n",
      " <result pre=\"infection (ARI).9,73 In children older than 11 months with LRTI,\" exact=\"viral load\" post=\"is likewise predictive of illness severity scores.9,74 Meanwhile, lower\"/>\r\n",
      " <result pre=\"not successfully determined when illness will resolve.9,72 Caution in correlating\" exact=\"viral load\" post=\"to illness severity is needed, however, because definitive interpretation\"/>\r\n",
      " <result pre=\"the sub-epithelial layer of the airways.76 On the other hand,\" exact=\"viral replication\" post=\"in differentiated cells occurs only when there is damage\"/>\r\n",
      " <result pre=\"no evidence of virus carriers with persistent, low-level shedding and\" exact=\"viral load\" post=\"is not a good indicator of the development of\"/>\r\n",
      " <result pre=\"ten days after the index case becomes ill, depending on\" exact=\"viral load\" post=\"and duration of shedding by the child.60 Healthcare-associated RV\"/>\r\n",
      " <result pre=\"substitutions per site per year (drift strains),141-143 and by the\" exact=\"reassortment\" post=\"of viral genes between 2 or more influenza species\"/>\r\n",
      " <result pre=\"of the creation of a novel influenza A subtype through\" exact=\"antigenic drift\" post=\"and shift is shown in figure 2 below.144 At\"/>\r\n"
     ]
    }
   ],
   "source": [
    "%%bash\n",
    "head ethos/uk.bl.ethos.755301/results/search/virus_topics/results.xml"
   ]
  },
  {
   "cell_type": "code",
   "execution_count": null,
   "metadata": {},
   "outputs": [],
   "source": []
  }
 ],
 "metadata": {
  "kernelspec": {
   "display_name": "Bash",
   "language": "bash",
   "name": "bash"
  },
  "language_info": {
   "codemirror_mode": "shell",
   "file_extension": ".sh",
   "mimetype": "text/x-sh",
   "name": "bash"
  }
 },
 "nbformat": 4,
 "nbformat_minor": 4
}
